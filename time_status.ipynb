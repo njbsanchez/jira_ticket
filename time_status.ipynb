{
 "cells": [
  {
   "cell_type": "code",
   "execution_count": 6,
   "metadata": {},
   "outputs": [],
   "source": [
    "from jiraone import LOGIN, PROJECT, file_reader\n",
    "from jiraone.module import time_in_status\n",
    "import json"
   ]
  },
  {
   "cell_type": "code",
   "execution_count": 7,
   "metadata": {},
   "outputs": [],
   "source": [
    "config = json.load(open('config.json'))\n",
    "LOGIN(**config)\n",
    "key = \"WCC-9110\"\n",
    "\n",
    "\"\"\"\n",
    "    \n",
    "Key can be in any of the following formats: \n",
    "\n",
    "    key = \"COM-12\" # as a string\n",
    "    key = \"COM-12,COM-14\" # a string separated by comma\n",
    "    key = 10034 # an integer denoting the issueid\n",
    "    key = [\"COM-12\", \"COM-114\", \"TPS-14\", 10024] # a list of issue keys or issue ids\n",
    "    key = {\"jql\": \"project = COM ORDER BY created DESC\"} # a dict using JQL\n",
    "\n",
    "\"\"\""
   ]
  },
  {
   "cell_type": "code",
   "execution_count": 9,
   "metadata": {},
   "outputs": [
    {
     "name": "stdout",
     "output_type": "stream",
     "text": [
      "Extracting issue histories...\n",
      "Getting history from issue: WCC-9110\n",
      "****************************************************************************************************\n"
     ]
    },
    {
     "data": {
      "text/plain": [
       "'Output file is located at: /Users/nsanchez/Desktop/jira_script/STATUSPAGE/result.json'"
      ]
     },
     "execution_count": 9,
     "metadata": {},
     "output_type": "execute_result"
    }
   ],
   "source": [
    "\n",
    "time_in_status(PROJECT, # required positional argument - houses the function that calls change_log() method\n",
    "               key, # issue key - to be passed, object to get information from\n",
    "               file_reader, # misc. function\n",
    "               pprint=True, # prettify's the time in status format\n",
    "               is_printable=False, \n",
    "               output_format=\"json\", \n",
    "               report_folder=\"STATUSPAGE\", # \n",
    "               report_file=\"time.csv\",\n",
    "               status=\"In progress\", # if you want a report of only \"in progress\", write name here. if left blank, will show all statuses.\n",
    "               login=LOGIN, output_filename=\"result\")\n"
   ]
  },
  {
   "cell_type": "code",
   "execution_count": null,
   "metadata": {},
   "outputs": [],
   "source": []
  }
 ],
 "metadata": {
  "interpreter": {
   "hash": "31f2aee4e71d21fbe5cf8b01ff0e069b9275f58929596ceb00d14d90e3e16cd6"
  },
  "kernelspec": {
   "display_name": "Python 3.8.9 64-bit",
   "language": "python",
   "name": "python3"
  },
  "language_info": {
   "codemirror_mode": {
    "name": "ipython",
    "version": 3
   },
   "file_extension": ".py",
   "mimetype": "text/x-python",
   "name": "python",
   "nbconvert_exporter": "python",
   "pygments_lexer": "ipython3",
   "version": "3.8.9"
  },
  "orig_nbformat": 4
 },
 "nbformat": 4,
 "nbformat_minor": 2
}
