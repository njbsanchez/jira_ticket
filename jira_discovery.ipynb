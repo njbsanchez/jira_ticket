{
 "cells": [
  {
   "cell_type": "code",
   "execution_count": 51,
   "metadata": {},
   "outputs": [
    {
     "ename": "ModuleNotFoundError",
     "evalue": "No module named 'pandas'",
     "output_type": "error",
     "traceback": [
      "\u001b[0;31m---------------------------------------------------------------------------\u001b[0m",
      "\u001b[0;31mModuleNotFoundError\u001b[0m                       Traceback (most recent call last)",
      "\u001b[1;32m/Users/nsanchez/Desktop/jira_script/jira_discovery.ipynb Cell 1'\u001b[0m in \u001b[0;36m<module>\u001b[0;34m\u001b[0m\n\u001b[1;32m      <a href='vscode-notebook-cell:/Users/nsanchez/Desktop/jira_script/jira_discovery.ipynb#ch0000000?line=5'>6</a>\u001b[0m \u001b[39mimport\u001b[39;00m \u001b[39mjson\u001b[39;00m\n\u001b[1;32m      <a href='vscode-notebook-cell:/Users/nsanchez/Desktop/jira_script/jira_discovery.ipynb#ch0000000?line=7'>8</a>\u001b[0m \u001b[39mimport\u001b[39;00m \u001b[39mast\u001b[39;00m\n\u001b[0;32m----> <a href='vscode-notebook-cell:/Users/nsanchez/Desktop/jira_script/jira_discovery.ipynb#ch0000000?line=8'>9</a>\u001b[0m \u001b[39mimport\u001b[39;00m \u001b[39mpandas\u001b[39;00m \u001b[39mas\u001b[39;00m \u001b[39mpd\u001b[39;00m\n",
      "\u001b[0;31mModuleNotFoundError\u001b[0m: No module named 'pandas'"
     ]
    }
   ],
   "source": [
    "from jira import JIRA\n",
    "from jira import JIRAError\n",
    "\n",
    "import requests\n",
    "from requests.auth import HTTPBasicAuth\n",
    "import json\n",
    "\n",
    "import ast\n",
    "import pandas as pd\n",
    "\n",
    "\n"
   ]
  },
  {
   "cell_type": "code",
   "execution_count": 50,
   "metadata": {},
   "outputs": [],
   "source": [
    "#read config.json file and apply authorization\n",
    "\n",
    "f = open('config.json')\n",
    "\n",
    "data = json.load(f)\n",
    " \n",
    "user_info = {}\n",
    "\n",
    "for key in data:\n",
    "    user_info[key] = data[key]\n",
    "\n",
    "auth_secret = user_info['password']\n",
    "auth_key = user_info['user']\n",
    "auth_url = user_info['url']\n",
    "\n",
    "f.close()\n"
   ]
  },
  {
   "cell_type": "code",
   "execution_count": null,
   "metadata": {},
   "outputs": [],
   "source": []
  },
  {
   "cell_type": "code",
   "execution_count": 8,
   "metadata": {},
   "outputs": [],
   "source": [
    "jiraOptions = {'server': auth_url}\n",
    "jira = JIRA(options=jiraOptions, basic_auth=(\n",
    "    auth_key, auth_secret))\n",
    "\n",
    "auth = HTTPBasicAuth(\n",
    "    auth_key, auth_secret)\n",
    "\n",
    "\n"
   ]
  },
  {
   "cell_type": "markdown",
   "metadata": {},
   "source": []
  },
  {
   "cell_type": "code",
   "execution_count": null,
   "metadata": {},
   "outputs": [],
   "source": [
    "# #get filters\n",
    "\n",
    "# url = \"https://hello.atlassian.net/rest/api/2/filter/my\"\n",
    "\n",
    "# headers = {\n",
    "#    \"Accept\": \"application/json\"\n",
    "# }\n",
    "\n",
    "# response = requests.request(\n",
    "#    \"GET\",\n",
    "#    url,\n",
    "#    headers=headers,\n",
    "#    auth=auth\n",
    "# )\n",
    "\n",
    "# print(json.dumps(json.loads(response.text), sort_keys=True, indent=4, separators=(\",\", \": \")))"
   ]
  },
  {
   "cell_type": "code",
   "execution_count": null,
   "metadata": {},
   "outputs": [
    {
     "name": "stdout",
     "output_type": "stream",
     "text": [
      "{\n",
      "    \"sections\": [\n",
      "        {\n",
      "            \"id\": \"hs\",\n",
      "            \"issues\": [],\n",
      "            \"label\": \"History Search\",\n",
      "            \"msg\": \"No matching issues found\"\n",
      "        }\n",
      "    ]\n",
      "}\n"
     ]
    }
   ],
   "source": [
    "#gets issues\n",
    "\n",
    "url = \"https://your-domain.atlassian.net/rest/api/3/issue/picker\"\n",
    "\n",
    "headers = {\n",
    "   \"Accept\": \"application/json\"\n",
    "}\n",
    "\n",
    "query = {\n",
    "   'query': 'query'\n",
    "}\n",
    "\n",
    "response = requests.request(\n",
    "   \"GET\",\n",
    "   url,\n",
    "   headers=headers,\n",
    "   params=query,\n",
    "   auth=auth\n",
    ")\n",
    "\n",
    "print(json.dumps(json.loads(response.text), sort_keys=True, indent=4, separators=(\",\", \": \")))"
   ]
  },
  {
   "cell_type": "code",
   "execution_count": 9,
   "metadata": {},
   "outputs": [
    {
     "name": "stdout",
     "output_type": "stream",
     "text": [
      "{\n",
      "    \"errorMessages\": [\n",
      "        \"The value 'Test' does not exist for the field 'project'.\"\n",
      "    ],\n",
      "    \"warningMessages\": []\n",
      "}\n"
     ]
    }
   ],
   "source": [
    "url = \"https://hello.atlassian.net/rest/api/3/search\"\n",
    "\n",
    "headers = {\n",
    "   \"Accept\": \"application/json\"\n",
    "}\n",
    "\n",
    "query = {\n",
    "   'jql': 'project = Test'\n",
    "}\n",
    "\n",
    "response = requests.request(\n",
    "   \"GET\",\n",
    "   url,\n",
    "   headers=headers,\n",
    "   params=query,\n",
    "   auth=auth\n",
    ")\n",
    "\n",
    "print(json.dumps(json.loads(response.text), sort_keys=True, indent=4, separators=(\",\", \": \")))"
   ]
  },
  {
   "cell_type": "code",
   "execution_count": 31,
   "metadata": {},
   "outputs": [
    {
     "name": "stdout",
     "output_type": "stream",
     "text": [
      "'issue' ------ data type:  <class 'jira.resources.Issue'> | WCC-9110\n",
      "'issue.fields' ------ data type: <class 'jira.resources.PropertyHolder'> | <jira.resources.PropertyHolder object at 0x10f67a910>\n",
      "'issue.fields.comment' ------ data type: <class 'jira.resources.UnknownResource'> | <JIRA UnknownResource at 4550607008>\n",
      "'issue.fields.comment.comments' ------ data type: <class 'list'> | [<JIRA Comment: id='6247683'>, <JIRA Comment: id='6312223'>, <JIRA Comment: id='6338702'>, <JIRA Comment: id='6343928'>, <JIRA Comment: id='6345506'>, <JIRA Comment: id='6359935'>, <JIRA Comment: id='6364108'>, <JIRA Comment: id='6397675'>, <JIRA Comment: id='6408168'>, <JIRA Comment: id='6517002'>, <JIRA Comment: id='6517384'>, <JIRA Comment: id='6517474'>, <JIRA Comment: id='6524081'>, <JIRA Comment: id='6528076'>, <JIRA Comment: id='6528156'>, <JIRA Comment: id='6528390'>, <JIRA Comment: id='6528831'>, <JIRA Comment: id='6530793'>, <JIRA Comment: id='6535180'>, <JIRA Comment: id='6540802'>, <JIRA Comment: id='6541149'>, <JIRA Comment: id='6541386'>, <JIRA Comment: id='6541437'>, <JIRA Comment: id='6541443'>, <JIRA Comment: id='6542709'>, <JIRA Comment: id='6543255'>, <JIRA Comment: id='6543369'>, <JIRA Comment: id='6545809'>, <JIRA Comment: id='6546717'>, <JIRA Comment: id='6547072'>, <JIRA Comment: id='6547495'>]\n"
     ]
    }
   ],
   "source": [
    "#prints comments in body of issue\n",
    "\n",
    "issue = jira.issue('WCC-9110', fields='summary,comment,created,issueKey')\n",
    "print(f\"'issue' ------ data type:  {type(issue)} | {issue}\")\n",
    "print(f\"'issue.fields' ------ data type: {type(issue.fields)} | {issue.fields}\")\n",
    "print(f\"'issue.fields.comment' ------ data type: {type(issue.fields.comment)} | {issue.fields.comment}\")\n",
    "print(f\"'issue.fields.comment.comments' ------ data type: {type(issue.fields.comment.comments)} | {issue.fields.comment.comments}\")\n"
   ]
  },
  {
   "cell_type": "code",
   "execution_count": null,
   "metadata": {},
   "outputs": [],
   "source": [
    "issue_comments = issue.fields.comment.comments\n",
    "print(len(issue_comments))\n",
    "print (issue_comments[0].body)"
   ]
  },
  {
   "cell_type": "code",
   "execution_count": 11,
   "metadata": {},
   "outputs": [
    {
     "ename": "SyntaxError",
     "evalue": "invalid syntax (1416658494.py, line 4)",
     "output_type": "error",
     "traceback": [
      "\u001b[0;36m  Input \u001b[0;32mIn [11]\u001b[0;36m\u001b[0m\n\u001b[0;31m    print pd.DataFrame(val2, columns=[\"time\", \"temperature\", \"quality\"])\u001b[0m\n\u001b[0m          ^\u001b[0m\n\u001b[0;31mSyntaxError\u001b[0m\u001b[0;31m:\u001b[0m invalid syntax\n"
     ]
    }
   ],
   "source": [
    "# val = ast.literal_eval(issue)\n",
    "# val1 = json.loads(json.dumps(val))\n",
    "# val2 = val1['tags'][0]['results'][0]['values']\n",
    "# print pd.DataFrame(val2, columns=[\"time\", \"temperature\", \"quality\"])"
   ]
  },
  {
   "cell_type": "code",
   "execution_count": 36,
   "metadata": {},
   "outputs": [
    {
     "ename": "AttributeError",
     "evalue": "<class 'jira.resources.Issue'> object has no attribute 'issueHistory' ('Issue' object is not subscriptable)",
     "output_type": "error",
     "traceback": [
      "\u001b[0;31m---------------------------------------------------------------------------\u001b[0m",
      "\u001b[0;31mTypeError\u001b[0m                                 Traceback (most recent call last)",
      "File \u001b[0;32m~/Library/Python/3.8/lib/python/site-packages/jira/resources.py:217\u001b[0m, in \u001b[0;36mResource.__getattr__\u001b[0;34m(self, item)\u001b[0m\n\u001b[1;32m    <a href='file:///~/Library/Python/3.8/lib/python/site-packages/jira/resources.py?line=215'>216</a>\u001b[0m \u001b[39mtry\u001b[39;00m:\n\u001b[0;32m--> <a href='file:///~/Library/Python/3.8/lib/python/site-packages/jira/resources.py?line=216'>217</a>\u001b[0m     \u001b[39mreturn\u001b[39;00m \u001b[39mself\u001b[39;49m[item]  \u001b[39m# type: ignore\u001b[39;00m\n\u001b[1;32m    <a href='file:///~/Library/Python/3.8/lib/python/site-packages/jira/resources.py?line=217'>218</a>\u001b[0m \u001b[39mexcept\u001b[39;00m \u001b[39mException\u001b[39;00m \u001b[39mas\u001b[39;00m e:\n",
      "\u001b[0;31mTypeError\u001b[0m: 'Issue' object is not subscriptable",
      "\nDuring handling of the above exception, another exception occurred:\n",
      "\u001b[0;31mAttributeError\u001b[0m                            Traceback (most recent call last)",
      "\u001b[1;32m/Users/nsanchez/Desktop/jira_script/jira_discovery.ipynb Cell 11'\u001b[0m in \u001b[0;36m<module>\u001b[0;34m\u001b[0m\n\u001b[0;32m----> <a href='vscode-notebook-cell:/Users/nsanchez/Desktop/jira_script/jira_discovery.ipynb#ch0000009?line=0'>1</a>\u001b[0m issue\u001b[39m.\u001b[39;49missueHistory\n",
      "File \u001b[0;32m~/Library/Python/3.8/lib/python/site-packages/jira/resources.py:222\u001b[0m, in \u001b[0;36mResource.__getattr__\u001b[0;34m(self, item)\u001b[0m\n\u001b[1;32m    <a href='file:///~/Library/Python/3.8/lib/python/site-packages/jira/resources.py?line=219'>220</a>\u001b[0m     \u001b[39mreturn\u001b[39;00m \u001b[39mself\u001b[39m\u001b[39m.\u001b[39mraw[item]\n\u001b[1;32m    <a href='file:///~/Library/Python/3.8/lib/python/site-packages/jira/resources.py?line=220'>221</a>\u001b[0m \u001b[39melse\u001b[39;00m:\n\u001b[0;32m--> <a href='file:///~/Library/Python/3.8/lib/python/site-packages/jira/resources.py?line=221'>222</a>\u001b[0m     \u001b[39mraise\u001b[39;00m \u001b[39mAttributeError\u001b[39;00m(\n\u001b[1;32m    <a href='file:///~/Library/Python/3.8/lib/python/site-packages/jira/resources.py?line=222'>223</a>\u001b[0m         \u001b[39mf\u001b[39m\u001b[39m\"\u001b[39m\u001b[39m{\u001b[39;00m\u001b[39mself\u001b[39m\u001b[39m.\u001b[39m\u001b[39m__class__\u001b[39m\u001b[39m!r}\u001b[39;00m\u001b[39m object has no attribute \u001b[39m\u001b[39m{\u001b[39;00mitem\u001b[39m!r}\u001b[39;00m\u001b[39m (\u001b[39m\u001b[39m{\u001b[39;00me\u001b[39m}\u001b[39;00m\u001b[39m)\u001b[39m\u001b[39m\"\u001b[39m\n\u001b[1;32m    <a href='file:///~/Library/Python/3.8/lib/python/site-packages/jira/resources.py?line=223'>224</a>\u001b[0m     )\n",
      "\u001b[0;31mAttributeError\u001b[0m: <class 'jira.resources.Issue'> object has no attribute 'issueHistory' ('Issue' object is not subscriptable)"
     ]
    }
   ],
   "source": [
    "issue.issueHistory"
   ]
  }
 ],
 "metadata": {
  "interpreter": {
   "hash": "31f2aee4e71d21fbe5cf8b01ff0e069b9275f58929596ceb00d14d90e3e16cd6"
  },
  "kernelspec": {
   "display_name": "Python 3.8.9 64-bit",
   "language": "python",
   "name": "python3"
  },
  "language_info": {
   "codemirror_mode": {
    "name": "ipython",
    "version": 3
   },
   "file_extension": ".py",
   "mimetype": "text/x-python",
   "name": "python",
   "nbconvert_exporter": "python",
   "pygments_lexer": "ipython3",
   "version": "3.8.9"
  },
  "orig_nbformat": 4
 },
 "nbformat": 4,
 "nbformat_minor": 2
}
